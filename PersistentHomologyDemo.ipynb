{
 "cells": [
  {
   "cell_type": "code",
   "execution_count": null,
   "metadata": {
    "collapsed": false
   },
   "outputs": [],
   "source": [
    "import random\n",
    "import math\n",
    "import numpy as np\n",
    "from scipy import spatial\n",
    "\n",
    "from matplotlib import pyplot as plt\n",
    "\n",
    "%matplotlib inline\n",
    "plt.rcParams['figure.figsize'] = (6, 6)"
   ]
  },
  {
   "cell_type": "markdown",
   "metadata": {},
   "source": [
    "### Utility Functions"
   ]
  },
  {
   "cell_type": "code",
   "execution_count": null,
   "metadata": {
    "collapsed": true
   },
   "outputs": [],
   "source": [
    "def plot_point_cloud(samples, start, end, step, istemporal):\n",
    "    \n",
    "    for size in range(start, end, step):\n",
    "\n",
    "        f = plt.figure()\n",
    "        ax = plt.gca()\n",
    "\n",
    "        plt.grid(b=True, which='major', color='k', linestyle='-')\n",
    "        plt.grid(b=True, which='minor', color='k', linestyle='-', alpha=0.2)\n",
    "\n",
    "        # Transparent \"balls\" of larger radius\n",
    "        plt.scatter(samples[:,0], samples[:,1], s=size, color='orange');\n",
    "\n",
    "        # actual points\n",
    "        plt.scatter(samples[:,0], samples[:,1], s=10);\n",
    "        \n",
    "        if istemporal:\n",
    "            # Temporal info\n",
    "            plt.plot(sample[:, 0], sample[:,1], color='black')\n",
    "\n",
    "        ax.set_aspect('equal')\n",
    "\n",
    "        plt.minorticks_on()\n",
    "\n",
    "        plt.show()\n",
    "\n",
    "def distance_matrix(samples, withplot, istemporal):\n",
    "    dist_mat = spatial.distance.pdist(samples)\n",
    "    dist_mat = spatial.distance.squareform(dist_mat)\n",
    "    \n",
    "    if istemporal:\n",
    "        # Set superdiagonal and subdiagonal to zero\n",
    "        for i in range(samples.shape[0]-1):\n",
    "            dist_mat[i, i+1] = 0\n",
    "            dist_mat[i+1, i] = 0\n",
    "\n",
    "    if withplot:\n",
    "        plt.pcolor(dist_mat);\n",
    "        plt.colorbar();\n",
    "    \n",
    "    ax = plt.gca()\n",
    "    ax.invert_yaxis()\n",
    "    ax.set_aspect('equal')\n",
    "        \n",
    "    return dist_mat\n",
    "\n",
    "\n",
    "def import_and_plot_persistence_data():\n",
    "    \n",
    "    # Import the persistence data\n",
    "    persistence_data_finite = {}   # For the finite persistence points\n",
    "    persistence_data_infinite = {} # For the infinite persistence points\n",
    "\n",
    "    # Keep track of the maximum value in the text files for plotting later\n",
    "    max_val = 0\n",
    "\n",
    "    for d in range(2):\n",
    "        raw_data = np.loadtxt('output_dim_%d.txt' % d)\n",
    "\n",
    "        if len(raw_data.shape) > 1:    # Check to see if file has more than one row\n",
    "            persistence_data_infinite[d] = raw_data[np.isinf(raw_data[:,1]), 0]\n",
    "            persistence_data_finite[d] = raw_data[np.invert(np.isinf(raw_data[:,1])), :]\n",
    "        else:                          # Otherwise parse it slightly differently\n",
    "            if np.isinf(raw_data[1]):\n",
    "                persistence_data_infinite[d] = np.asarray([raw_data[0]])\n",
    "                persistence_data_finite[d] = []\n",
    "            else:\n",
    "                persistence_data_finite[d] = np.reshape(raw_data, (1,2))\n",
    "                persistence_data_infinite[d] = []\n",
    "\n",
    "        if not np.array_equal(persistence_data_infinite[d], []):\n",
    "            max_val = max(max_val, np.amax(persistence_data_infinite[d].flatten()))\n",
    "        if not np.array_equal(persistence_data_finite[d], []):\n",
    "            max_val = max(max_val, np.amax(persistence_data_finite[d].flatten()))\n",
    "\n",
    "    # Plot the persistence diagrams\n",
    "    colors = ['black', 'blue']\n",
    "    labels = ['dim 0', 'dim 1']\n",
    "    size = 25\n",
    "\n",
    "    f = plt.figure()\n",
    "    ax = plt.gca()\n",
    "\n",
    "    plt.plot([0,max_val*1.1], [0,max_val*1.1], color='black')\n",
    "\n",
    "    for d in range(2):\n",
    "\n",
    "        if not np.array_equal(persistence_data_finite[d], []):\n",
    "            # Plot finite persistence points\n",
    "            plt.scatter(persistence_data_finite[d][:,0], persistence_data_finite[d][:,1], \n",
    "                        color=colors[d], \n",
    "                        label=labels[d], \n",
    "                        s=size)\n",
    "\n",
    "        if not np.array_equal(persistence_data_finite[d], []):\n",
    "            # Plot infinite persistence points along diagonal\n",
    "            plt.scatter(persistence_data_infinite[d], persistence_data_infinite[d], \n",
    "                        color='white', \n",
    "                        edgecolors=colors[d], \n",
    "                        s=size*2.)\n",
    "\n",
    "    plt.axis('equal')\n",
    "    plt.grid()\n",
    "    plt.xlim(-max_val/100.,max_val*1.1) # Give a little bit of space for all of the points\n",
    "    plt.ylim(-max_val/100.,max_val*1.1)\n",
    "\n",
    "    plt.legend()\n",
    "    plt.show()    \n",
    "\n",
    "    "
   ]
  },
  {
   "cell_type": "markdown",
   "metadata": {},
   "source": [
    "# Generate a sample dataset\n",
    "\n",
    "### Noisy sample of a circle."
   ]
  },
  {
   "cell_type": "code",
   "execution_count": null,
   "metadata": {
    "collapsed": false
   },
   "outputs": [],
   "source": [
    "N = 100        # Number of sample points\n",
    "r = 10.        # Radius of larger circle\n",
    "epsilon = 2.   # Radius of noise\n",
    "\n",
    "# Populate the matrix of points\n",
    "sample = np.zeros((N,2))\n",
    "\n",
    "for n in range(N):\n",
    "    theta_big = random.uniform(0, 2.*math.pi)\n",
    "    theta_small = random.uniform(0, 2.*math.pi)\n",
    "    \n",
    "    sample[n,:] = r*np.asarray([math.sin(theta_big), math.cos(theta_big)]) + \\\n",
    "                  epsilon*np.asarray([math.sin(theta_small), math.cos(theta_small)])\n",
    "\n",
    "# Plot the points with balls of growing radii\n",
    "plot_point_cloud(sample, 0, 3000, 100, 0)"
   ]
  },
  {
   "cell_type": "markdown",
   "metadata": {},
   "source": [
    "### Generate the Distance Matrix of the Point Cloud"
   ]
  },
  {
   "cell_type": "code",
   "execution_count": null,
   "metadata": {
    "collapsed": false
   },
   "outputs": [],
   "source": [
    "dist_mat = distance_matrix(sample, 1, 0)"
   ]
  },
  {
   "cell_type": "markdown",
   "metadata": {},
   "source": [
    "### Save as a space-delimited text file"
   ]
  },
  {
   "cell_type": "code",
   "execution_count": null,
   "metadata": {
    "collapsed": true
   },
   "outputs": [],
   "source": [
    "np.savetxt('noisy_sample_of_circle.txt', dist_mat, delimiter=' ')"
   ]
  },
  {
   "cell_type": "markdown",
   "metadata": {},
   "source": [
    "# Run Eirene on the distance matrix\n",
    "\n",
    "Use the JuliaNotebook to run the distance matrix through Eirene and output the persistence data..."
   ]
  },
  {
   "cell_type": "markdown",
   "metadata": {},
   "source": [
    "# Import the persistence diagram data and plot it\n",
    "\n",
    "From JuliaNotebook.ipynb, run the code that outputs the persistence diagram info and then run the following code."
   ]
  },
  {
   "cell_type": "code",
   "execution_count": null,
   "metadata": {
    "collapsed": false
   },
   "outputs": [],
   "source": [
    "import_and_plot_persistence_data()"
   ]
  },
  {
   "cell_type": "markdown",
   "metadata": {},
   "source": [
    "# Circular Point Cloud with Temporal Information"
   ]
  },
  {
   "cell_type": "code",
   "execution_count": null,
   "metadata": {
    "collapsed": false
   },
   "outputs": [],
   "source": [
    "N = 20        # Number of sample points\n",
    "r = 10.        # Radius of larger circle\n",
    "\n",
    "# Matrix to hold points\n",
    "sample = np.zeros((N,2))\n",
    "\n",
    "for n in range(N):\n",
    "    theta_big = n*(7.*math.pi)/N\n",
    "    \n",
    "    sample[n,:] = r*np.asarray([math.sin(theta_big), math.cos(theta_big)])\n",
    "    \n",
    "# Plot the points\n",
    "plot_point_cloud(sample, 0, 500, 100, 1)"
   ]
  },
  {
   "cell_type": "markdown",
   "metadata": {},
   "source": [
    "## Generate the Distance Matrix of the Point Cloud"
   ]
  },
  {
   "cell_type": "code",
   "execution_count": null,
   "metadata": {
    "collapsed": false
   },
   "outputs": [],
   "source": [
    "dist_mat = distance_matrix(sample, 1, 1)"
   ]
  },
  {
   "cell_type": "markdown",
   "metadata": {
    "collapsed": true
   },
   "source": [
    "### Save the distance matrix output to process with Eirene"
   ]
  },
  {
   "cell_type": "code",
   "execution_count": null,
   "metadata": {
    "collapsed": true
   },
   "outputs": [],
   "source": [
    "np.savetxt('point_cloud_with_path.txt', dist_mat, delimiter=' ')"
   ]
  },
  {
   "cell_type": "markdown",
   "metadata": {},
   "source": [
    "### Import and Plot the Persistence Diagrams"
   ]
  },
  {
   "cell_type": "code",
   "execution_count": null,
   "metadata": {
    "collapsed": false
   },
   "outputs": [],
   "source": [
    "import_and_plot_persistence_data()"
   ]
  },
  {
   "cell_type": "code",
   "execution_count": null,
   "metadata": {
    "collapsed": true
   },
   "outputs": [],
   "source": []
  }
 ],
 "metadata": {
  "kernelspec": {
   "display_name": "Python 2",
   "language": "python",
   "name": "python2"
  },
  "language_info": {
   "codemirror_mode": {
    "name": "ipython",
    "version": 2
   },
   "file_extension": ".py",
   "mimetype": "text/x-python",
   "name": "python",
   "nbconvert_exporter": "python",
   "pygments_lexer": "ipython2",
   "version": "2.7.12"
  }
 },
 "nbformat": 4,
 "nbformat_minor": 0
}
